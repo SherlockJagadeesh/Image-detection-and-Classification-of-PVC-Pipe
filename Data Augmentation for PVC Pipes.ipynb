{
 "cells": [
  {
   "cell_type": "markdown",
   "metadata": {},
   "source": [
    "# Importing Libraries"
   ]
  },
  {
   "cell_type": "code",
   "execution_count": 1,
   "metadata": {},
   "outputs": [],
   "source": [
    "import numpy as np\n",
    "import matplotlib.pyplot as plt\n",
    "from keras.preprocessing import image\n",
    "import pathlib"
   ]
  },
  {
   "cell_type": "markdown",
   "metadata": {},
   "source": [
    "# Applying the objects with directories"
   ]
  },
  {
   "cell_type": "code",
   "execution_count": null,
   "metadata": {},
   "outputs": [],
   "source": [
    "Raw_dir_PVC = 'C:/Users/HP/Desktop/Images/Raw/PVC Pipes'\n",
    "Raw_dir_No = 'C:/Users/HP/Desktop/Images/Raw/No Pipes'\n",
    "Raw2_dir_PVC = 'C:/Users/HP/Desktop/Images/Raw 2/PVC Pipes'\n",
    "Raw2_dir_No = 'C:/Users/HP/Desktop/Images/Raw 2/No Pipes'\n",
    "Raw3_dir_PVC = 'C:/Users/HP/Desktop/Images/Raw 3/PVC Pipes'\n",
    "Raw3_dir_No = 'C:/Users/HP/Desktop/Images/Raw 3/No Pipes'\n",
    "\n",
    "Raw_dir_PVC = pathlib.Path(Raw_dir_PVC)\n",
    "Raw_dir_No = pathlib.Path(Raw_dir_No)\n",
    "Raw2_dir_PVC = pathlib.Path(Raw2_dir_PVC)\n",
    "Raw2_dir_No = pathlib.Path(Raw2_dir_No)\n",
    "Raw3_dir_PVC = pathlib.Path(Raw3_dir_PVC)\n",
    "Raw3_dir_No = pathlib.Path(Raw3_dir_No)\n",
    "\n",
    "X1 = list(Raw_dir_PVC.glob('*/*.jpg'))\n",
    "X2 = list(Raw_dir_No.glob('*/*.jpg'))\n",
    "Y1 = list(Raw2_dir_PVC.glob('*/*.jpg'))\n",
    "Y2 = list(Raw2_dir_No.glob('*/*.jpg'))\n",
    "Z1 = list(Raw3_dir_PVC.glob('*/*.jpg'))\n",
    "Z2 = list(Raw3_dir_No.glob('*/*.jpg'))\n",
    "\n",
    "datagen = I.ImageDataGenerator(rescale=1./255,\n",
    "                               shear_range=0.2,\n",
    "                               zoom_range=0.2,\n",
    "                               rotation_range=45,\n",
    "                               horizontal_flip=True)"
   ]
  },
  {
   "cell_type": "markdown",
   "metadata": {},
   "source": [
    "# Augmenting the data using diffferent hyperparameters"
   ]
  },
  {
   "cell_type": "code",
   "execution_count": null,
   "metadata": {},
   "outputs": [],
   "source": [
    "for image in X1:\n",
    "    u = I.load_img(image)\n",
    "    z = I.img_to_array(u)\n",
    "    z = z.reshape((1,) + z.shape)\n",
    "    i = 0\n",
    "    for batch in datagen.flow(z, batch_size=1,save_to_dir='C:/Users/HP/Desktop/Images/Train/PVC Pipes', \n",
    "                              save_prefix='pvc', save_format='jpg'):\n",
    "        i += 1\n",
    "        if i > 3:\n",
    "            break\n",
    "            \n",
    "for image in X2:\n",
    "    u = I.load_img(image)\n",
    "    z = I.img_to_array(u)\n",
    "    z = z.reshape((1,) + z.shape)\n",
    "    i = 0\n",
    "    for batch in datagen.flow(z, batch_size=1,save_to_dir='C:/Users/HP/Desktop/Images/Train/No Pipes', \n",
    "                              save_prefix='pvc', save_format='jpg'):\n",
    "        i += 1\n",
    "        if i > 3:\n",
    "            break"
   ]
  },
  {
   "cell_type": "code",
   "execution_count": null,
   "metadata": {},
   "outputs": [],
   "source": [
    "for image in Y1:\n",
    "    u = I.load_img(image)\n",
    "    z = I.img_to_array(u)\n",
    "    z = z.reshape((1,) + z.shape)\n",
    "    i = 0\n",
    "    for batch in datagen.flow(z, batch_size=1,save_to_dir='C:/Users/HP/Desktop/Images/Validate/PVC Pipes', \n",
    "                              save_prefix='pvc', save_format='jpg'):\n",
    "        i += 1\n",
    "        if i > 3:\n",
    "            break\n",
    "            \n",
    "for image in Y2:\n",
    "    u = I.load_img(image)\n",
    "    z = I.img_to_array(u)\n",
    "    z = z.reshape((1,) + z.shape)\n",
    "    i = 0\n",
    "    for batch in datagen.flow(z, batch_size=1,save_to_dir='C:/Users/HP/Desktop/Images/Validate/No Pipes', \n",
    "                              save_prefix='pvc', save_format='jpg'):\n",
    "        i += 1\n",
    "        if i > 3:\n",
    "            break"
   ]
  },
  {
   "cell_type": "code",
   "execution_count": null,
   "metadata": {},
   "outputs": [],
   "source": [
    "for image in Z1:\n",
    "    u = I.load_img(image)\n",
    "    z = I.img_to_array(u)\n",
    "    z = z.reshape((1,) + z.shape)\n",
    "    i = 0\n",
    "    for batch in datagen.flow(z, batch_size=1,save_to_dir='C:/Users/HP/Desktop/Images/Test/PVC Pipes', \n",
    "                              save_prefix='pvc', save_format='jpg'):\n",
    "        i += 1\n",
    "        if i > 3:\n",
    "            break\n",
    "            \n",
    "for image in Z2:\n",
    "    u = I.load_img(image)\n",
    "    z = I.img_to_array(u)\n",
    "    z = z.reshape((1,) + z.shape)\n",
    "    i = 0\n",
    "    for batch in datagen.flow(z, batch_size=1,save_to_dir='C:/Users/HP/Desktop/Images/Test/No Pipes', \n",
    "                              save_prefix='pvc', save_format='jpg'):\n",
    "        i += 1\n",
    "        if i > 3:\n",
    "            break"
   ]
  }
 ],
 "metadata": {
  "kernelspec": {
   "display_name": "Python 3",
   "language": "python",
   "name": "python3"
  },
  "language_info": {
   "codemirror_mode": {
    "name": "ipython",
    "version": 3
   },
   "file_extension": ".py",
   "mimetype": "text/x-python",
   "name": "python",
   "nbconvert_exporter": "python",
   "pygments_lexer": "ipython3",
   "version": "3.8.8"
  }
 },
 "nbformat": 4,
 "nbformat_minor": 4
}
