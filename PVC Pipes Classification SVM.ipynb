{
 "cells": [
  {
   "cell_type": "markdown",
   "id": "f006160d",
   "metadata": {},
   "source": [
    "# Importing Libraries "
   ]
  },
  {
   "cell_type": "code",
   "execution_count": 1,
   "id": "9192c23d",
   "metadata": {},
   "outputs": [],
   "source": [
    "import numpy as np\n",
    "import matplotlib.pyplot as plt\n",
    "import seaborn as sns\n",
    "from sklearn.metrics import confusion_matrix\n",
    "from keras.preprocessing.image import ImageDataGenerator"
   ]
  },
  {
   "cell_type": "markdown",
   "id": "cc42eefa",
   "metadata": {},
   "source": [
    "# Importing Train Dataset"
   ]
  },
  {
   "cell_type": "code",
   "execution_count": 2,
   "id": "ee7678b4",
   "metadata": {},
   "outputs": [
    {
     "name": "stdout",
     "output_type": "stream",
     "text": [
      "Found 279 images belonging to 2 classes.\n"
     ]
    }
   ],
   "source": [
    "train_datagen = ImageDataGenerator(rescale = 1./255)\n",
    "training_set = train_datagen.flow_from_directory('C:/Users/HP/Desktop/Images/Train 2',\n",
    "                                                 batch_size = 300,\n",
    "                                                 target_size = (150,150),\n",
    "                                                 class_mode = 'binary')"
   ]
  },
  {
   "cell_type": "markdown",
   "id": "4adef4fc",
   "metadata": {},
   "source": [
    "# Manipulation of Training dataset"
   ]
  },
  {
   "cell_type": "code",
   "execution_count": 3,
   "id": "942050d9",
   "metadata": {},
   "outputs": [],
   "source": [
    "X, Y = next(iter(training_set))"
   ]
  },
  {
   "cell_type": "code",
   "execution_count": 4,
   "id": "ebbf8f8c",
   "metadata": {},
   "outputs": [],
   "source": [
    "L = []\n",
    "for i in range(Y.size):\n",
    "    L.append(X[i].flatten())\n",
    "\n",
    "X = np.asarray(L)"
   ]
  },
  {
   "cell_type": "markdown",
   "id": "14301c10",
   "metadata": {},
   "source": [
    "# Splitting the training dataset"
   ]
  },
  {
   "cell_type": "code",
   "execution_count": 5,
   "id": "2e53436e",
   "metadata": {},
   "outputs": [],
   "source": [
    "from sklearn.model_selection import train_test_split\n",
    "X_train,X_test,Y_train,Y_test = train_test_split(X,Y,test_size=0.2,random_state=0)"
   ]
  },
  {
   "cell_type": "markdown",
   "id": "4aa6ae74",
   "metadata": {},
   "source": [
    "# Hyperparameter tuning using GridSearch"
   ]
  },
  {
   "cell_type": "code",
   "execution_count": 6,
   "id": "42ab829c",
   "metadata": {},
   "outputs": [
    {
     "name": "stdout",
     "output_type": "stream",
     "text": [
      "Best Accuracy: 66.82 %\n",
      "Best Parameters: {'C': 0.25, 'gamma': 0.1, 'kernel': 'poly'}\n"
     ]
    }
   ],
   "source": [
    "from sklearn.svm import SVC\n",
    "classifier = SVC()\n",
    "from sklearn.model_selection import GridSearchCV\n",
    "parameters = [{'C': [0.25, 0.5, 0.75, 1], 'kernel': ['linear']},\n",
    "              {'C': [0.25, 0.5, 0.75, 1], 'kernel': ['rbf','poly','sigmoid'], 'gamma': [0.1, 0.2, 0.3, 0.4, 0.5, 0.6, 0.7, 0.8, 0.9]}]\n",
    "grid_search = GridSearchCV(estimator = classifier, param_grid = parameters, \n",
    "                           scoring = 'accuracy', cv = 10, n_jobs = -1)\n",
    "grid_search.fit(X_train,Y_train)\n",
    "best_accuracy = grid_search.best_score_\n",
    "best_parameters = grid_search.best_params_\n",
    "print(\"Best Accuracy: {:.2f} %\".format(best_accuracy*100))\n",
    "print(\"Best Parameters:\", best_parameters)"
   ]
  },
  {
   "cell_type": "markdown",
   "id": "5891921d",
   "metadata": {},
   "source": [
    "# Creating a kernel SVM classifier object"
   ]
  },
  {
   "cell_type": "code",
   "execution_count": 9,
   "id": "c2b75d52",
   "metadata": {},
   "outputs": [
    {
     "data": {
      "text/plain": [
       "SVC(C=0.25, gamma=0.1, kernel='poly')"
      ]
     },
     "execution_count": 9,
     "metadata": {},
     "output_type": "execute_result"
    }
   ],
   "source": [
    "classifier2 = SVC(C=0.25,kernel='poly',gamma=0.1)\n",
    "classifier2.fit(X_train,Y_train)"
   ]
  },
  {
   "cell_type": "code",
   "execution_count": 10,
   "id": "f75ba7eb",
   "metadata": {},
   "outputs": [
    {
     "name": "stdout",
     "output_type": "stream",
     "text": [
      "[[21  8]\n",
      " [10 17]]\n"
     ]
    },
    {
     "data": {
      "text/plain": [
       "0.6785714285714286"
      ]
     },
     "execution_count": 10,
     "metadata": {},
     "output_type": "execute_result"
    }
   ],
   "source": [
    "from sklearn.metrics import confusion_matrix, accuracy_score\n",
    "X_Pred = classifier2.predict(X_test)\n",
    "cm = confusion_matrix(Y_test,X_Pred)\n",
    "print(cm)\n",
    "accuracy_score(Y_test,X_Pred)"
   ]
  },
  {
   "cell_type": "code",
   "execution_count": 11,
   "id": "ec055d33",
   "metadata": {},
   "outputs": [
    {
     "name": "stdout",
     "output_type": "stream",
     "text": [
      "Accuracy: 62.33 %\n",
      "Standard Deviation: 12.48 %\n"
     ]
    }
   ],
   "source": [
    "from sklearn.model_selection import cross_val_score\n",
    "accuracies = cross_val_score(estimator = classifier2, X = X_train, y = Y_train , cv = 10)\n",
    "print(\"Accuracy: {:.2f} %\".format(accuracies.mean()*100))\n",
    "print(\"Standard Deviation: {:.2f} %\".format(accuracies.std()*100))"
   ]
  },
  {
   "cell_type": "code",
   "execution_count": 12,
   "id": "3d50982f",
   "metadata": {},
   "outputs": [
    {
     "name": "stdout",
     "output_type": "stream",
     "text": [
      "Found 35 images belonging to 2 classes.\n"
     ]
    }
   ],
   "source": [
    "Test_datagen = ImageDataGenerator(rescale = 1./255)\n",
    "Test_set = Test_datagen.flow_from_directory('C:/Users/HP/Desktop/Images/Test',\n",
    "                                                 batch_size = 35,\n",
    "                                                 target_size = (150,150),\n",
    "                                                 class_mode = 'binary')\n",
    "\n",
    "test_inputs,test_targets = next(iter(Test_set))\n",
    "\n",
    "L = []\n",
    "for i in range(test_targets.size):\n",
    "    L.append(test_inputs[i].flatten())\n",
    "\n",
    "test_inputs = np.asarray(L)"
   ]
  },
  {
   "cell_type": "code",
   "execution_count": 13,
   "id": "feb286c6",
   "metadata": {},
   "outputs": [
    {
     "data": {
      "text/plain": [
       "{'No Pipes': 0, 'PVC Pipes': 1}"
      ]
     },
     "execution_count": 13,
     "metadata": {},
     "output_type": "execute_result"
    }
   ],
   "source": [
    "Test_set.class_indices"
   ]
  },
  {
   "cell_type": "code",
   "execution_count": 14,
   "id": "f2a20a30",
   "metadata": {},
   "outputs": [
    {
     "name": "stdout",
     "output_type": "stream",
     "text": [
      "Accuracy based on Test data is 60.00%\n",
      "[[ 2 13]\n",
      " [ 1 19]]\n"
     ]
    },
    {
     "data": {
      "text/plain": [
       "Text(33.0, 0.5, 'Predicted class')"
      ]
     },
     "execution_count": 14,
     "metadata": {},
     "output_type": "execute_result"
    },
    {
     "data": {
      "image/png": "[encoded data removed]",
      "text/plain": [
       "<Figure size 432x288 with 2 Axes>"
      ]
     },
     "metadata": {
      "needs_background": "light"
     },
     "output_type": "display_data"
    }
   ],
   "source": [
    "test_pred = classifier2.predict(test_inputs)\n",
    "\n",
    "accuracy = accuracy_score(test_targets,test_pred)\n",
    "\n",
    "print(f'Accuracy based on Test data is {accuracy*100:.2f}%')\n",
    "\n",
    "cm = confusion_matrix(test_targets,test_pred)\n",
    "\n",
    "print(cm)\n",
    "\n",
    "sns.heatmap(cm,xticklabels=['No PVC Pipes','PVC Pipes'],yticklabels=['No PVC Pipes','PVC Pipes'])\n",
    "plt.xlabel('True class')\n",
    "plt.ylabel('Predicted class')"
   ]
  }
 ],
 "metadata": {
  "kernelspec": {
   "display_name": "Python 3",
   "language": "python",
   "name": "python3"
  },
  "language_info": {
   "codemirror_mode": {
    "name": "ipython",
    "version": 3
   },
   "file_extension": ".py",
   "mimetype": "text/x-python",
   "name": "python",
   "nbconvert_exporter": "python",
   "pygments_lexer": "ipython3",
   "version": "3.8.8"
  }
 },
 "nbformat": 4,
 "nbformat_minor": 5
}
